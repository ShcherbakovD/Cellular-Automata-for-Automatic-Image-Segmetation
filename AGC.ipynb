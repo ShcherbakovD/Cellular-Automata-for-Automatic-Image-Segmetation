{
  "nbformat": 4,
  "nbformat_minor": 0,
  "metadata": {
    "colab": {
      "provenance": []
    },
    "kernelspec": {
      "name": "python3",
      "display_name": "Python 3"
    },
    "language_info": {
      "name": "python"
    }
  },
  "cells": [
    {
      "cell_type": "code",
      "source": [
        "cpu_info = !lscpu\n",
        "for inf_item in cpu_info.get_list():\n",
        "  print(inf_item)"
      ],
      "metadata": {
        "id": "GPCIlJ1GWBbf",
        "colab": {
          "base_uri": "https://localhost:8080/"
        },
        "outputId": "aeea3ae9-bfab-4422-d113-3ff10976f448"
      },
      "execution_count": null,
      "outputs": [
        {
          "output_type": "stream",
          "name": "stdout",
          "text": [
            "Architecture:                    x86_64\n",
            "CPU op-mode(s):                  32-bit, 64-bit\n",
            "Byte Order:                      Little Endian\n",
            "Address sizes:                   46 bits physical, 48 bits virtual\n",
            "CPU(s):                          2\n",
            "On-line CPU(s) list:             0,1\n",
            "Thread(s) per core:              2\n",
            "Core(s) per socket:              1\n",
            "Socket(s):                       1\n",
            "NUMA node(s):                    1\n",
            "Vendor ID:                       GenuineIntel\n",
            "CPU family:                      6\n",
            "Model:                           79\n",
            "Model name:                      Intel(R) Xeon(R) CPU @ 2.20GHz\n",
            "Stepping:                        0\n",
            "CPU MHz:                         2200.214\n",
            "BogoMIPS:                        4400.42\n",
            "Hypervisor vendor:               KVM\n",
            "Virtualization type:             full\n",
            "L1d cache:                       32 KiB\n",
            "L1i cache:                       32 KiB\n",
            "L2 cache:                        256 KiB\n",
            "L3 cache:                        55 MiB\n",
            "NUMA node0 CPU(s):               0,1\n",
            "Vulnerability Itlb multihit:     Not affected\n",
            "Vulnerability L1tf:              Mitigation; PTE Inversion\n",
            "Vulnerability Mds:               Vulnerable; SMT Host state unknown\n",
            "Vulnerability Meltdown:          Vulnerable\n",
            "Vulnerability Mmio stale data:   Vulnerable\n",
            "Vulnerability Retbleed:          Vulnerable\n",
            "Vulnerability Spec store bypass: Vulnerable\n",
            "Vulnerability Spectre v1:        Vulnerable: __user pointer sanitization and use\n",
            "                                 rcopy barriers only; no swapgs barriers\n",
            "Vulnerability Spectre v2:        Vulnerable, IBPB: disabled, STIBP: disabled, PB\n",
            "                                 RSB-eIBRS: Not affected\n",
            "Vulnerability Srbds:             Not affected\n",
            "Vulnerability Tsx async abort:   Vulnerable\n",
            "Flags:                           fpu vme de pse tsc msr pae mce cx8 apic sep mtr\n",
            "                                 r pge mca cmov pat pse36 clflush mmx fxsr sse s\n",
            "                                 se2 ss ht syscall nx pdpe1gb rdtscp lm constant\n",
            "                                 _tsc rep_good nopl xtopology nonstop_tsc cpuid \n",
            "                                 tsc_known_freq pni pclmulqdq ssse3 fma cx16 pci\n",
            "                                 d sse4_1 sse4_2 x2apic movbe popcnt aes xsave a\n",
            "                                 vx f16c rdrand hypervisor lahf_lm abm 3dnowpref\n",
            "                                 etch invpcid_single ssbd ibrs ibpb stibp fsgsba\n",
            "                                 se tsc_adjust bmi1 hle avx2 smep bmi2 erms invp\n",
            "                                 cid rtm rdseed adx smap xsaveopt arat md_clear \n",
            "                                 arch_capabilities\n"
          ]
        }
      ]
    },
    {
      "cell_type": "code",
      "source": [
        "!pip install ipython-autotime\n",
        "%load_ext autotime"
      ],
      "metadata": {
        "id": "FxjfimTUEw7t",
        "colab": {
          "base_uri": "https://localhost:8080/"
        },
        "outputId": "38630ec6-fe31-4435-9f93-374ec3842288"
      },
      "execution_count": null,
      "outputs": [
        {
          "output_type": "stream",
          "name": "stdout",
          "text": [
            "Looking in indexes: https://pypi.org/simple, https://us-python.pkg.dev/colab-wheels/public/simple/\n",
            "Collecting ipython-autotime\n",
            "  Downloading ipython_autotime-0.3.1-py2.py3-none-any.whl (6.8 kB)\n",
            "Requirement already satisfied: ipython in /usr/local/lib/python3.10/dist-packages (from ipython-autotime) (7.34.0)\n",
            "Requirement already satisfied: setuptools>=18.5 in /usr/local/lib/python3.10/dist-packages (from ipython->ipython-autotime) (67.7.2)\n",
            "Collecting jedi>=0.16 (from ipython->ipython-autotime)\n",
            "  Downloading jedi-0.18.2-py2.py3-none-any.whl (1.6 MB)\n",
            "\u001b[2K     \u001b[90m━━━━━━━━━━━━━━━━━━━━━━━━━━━━━━━━━━━━━━━━\u001b[0m \u001b[32m1.6/1.6 MB\u001b[0m \u001b[31m29.7 MB/s\u001b[0m eta \u001b[36m0:00:00\u001b[0m\n",
            "\u001b[?25hRequirement already satisfied: decorator in /usr/local/lib/python3.10/dist-packages (from ipython->ipython-autotime) (4.4.2)\n",
            "Requirement already satisfied: pickleshare in /usr/local/lib/python3.10/dist-packages (from ipython->ipython-autotime) (0.7.5)\n",
            "Requirement already satisfied: traitlets>=4.2 in /usr/local/lib/python3.10/dist-packages (from ipython->ipython-autotime) (5.7.1)\n",
            "Requirement already satisfied: prompt-toolkit!=3.0.0,!=3.0.1,<3.1.0,>=2.0.0 in /usr/local/lib/python3.10/dist-packages (from ipython->ipython-autotime) (3.0.38)\n",
            "Requirement already satisfied: pygments in /usr/local/lib/python3.10/dist-packages (from ipython->ipython-autotime) (2.14.0)\n",
            "Requirement already satisfied: backcall in /usr/local/lib/python3.10/dist-packages (from ipython->ipython-autotime) (0.2.0)\n",
            "Requirement already satisfied: matplotlib-inline in /usr/local/lib/python3.10/dist-packages (from ipython->ipython-autotime) (0.1.6)\n",
            "Requirement already satisfied: pexpect>4.3 in /usr/local/lib/python3.10/dist-packages (from ipython->ipython-autotime) (4.8.0)\n",
            "Requirement already satisfied: parso<0.9.0,>=0.8.0 in /usr/local/lib/python3.10/dist-packages (from jedi>=0.16->ipython->ipython-autotime) (0.8.3)\n",
            "Requirement already satisfied: ptyprocess>=0.5 in /usr/local/lib/python3.10/dist-packages (from pexpect>4.3->ipython->ipython-autotime) (0.7.0)\n",
            "Requirement already satisfied: wcwidth in /usr/local/lib/python3.10/dist-packages (from prompt-toolkit!=3.0.0,!=3.0.1,<3.1.0,>=2.0.0->ipython->ipython-autotime) (0.2.6)\n",
            "Installing collected packages: jedi, ipython-autotime\n",
            "Successfully installed ipython-autotime-0.3.1 jedi-0.18.2\n",
            "time: 409 µs (started: 2023-05-23 06:51:40 +00:00)\n"
          ]
        }
      ]
    },
    {
      "cell_type": "code",
      "source": [
        "import time"
      ],
      "metadata": {
        "colab": {
          "base_uri": "https://localhost:8080/"
        },
        "id": "Rrx2K6mJIKAD",
        "outputId": "91acdf81-ffdb-438b-baaa-65a8b14eb4cb"
      },
      "execution_count": null,
      "outputs": [
        {
          "output_type": "stream",
          "name": "stdout",
          "text": [
            "time: 430 µs (started: 2023-05-23 06:51:40 +00:00)\n"
          ]
        }
      ]
    },
    {
      "cell_type": "code",
      "source": [
        "def segmentation(image, state, max_iter, rank):\n",
        "    image = img_as_float(image)\n",
        "    height, width = image.shape[:2]\n",
        "    changes = 1\n",
        "    n = 0\n",
        "    state_next = state.copy()\n",
        "\n",
        "    while changes > 0 and n < max_iter:\n",
        "        changes = 0\n",
        "        n += 1\n",
        "        for j in range(width):\n",
        "            for i in range(height):\n",
        "                C_p = image[i, j]\n",
        "                S_p = state[i, j]\n",
        "                for jj in range(max(0, j - rank),\n",
        "                                min(j + rank + 1, width)):\n",
        "                  for ii in range(max(0, i - rank),\n",
        "                                  min(i + rank + 1, height)):\n",
        "                        C_q = image[ii, jj]\n",
        "                        S_q = state[ii, jj]\n",
        "                        gc = 1 - np.sqrt(np.sum((C_q - C_p) ** 2)) / sqrt(3)\n",
        "                        if gc * S_q[1] > S_p[1]:\n",
        "                            state_next[i, j, 0] = S_q[0]\n",
        "                            state_next[i, j, 1] = gc * S_q[1]\n",
        "                            changes += 1\n",
        "                            break\n",
        "        state = state_next\n",
        "\n",
        "    return n, state[:, :, 0]"
      ],
      "metadata": {
        "id": "GnOMAqq5dPYY",
        "colab": {
          "base_uri": "https://localhost:8080/"
        },
        "outputId": "959eb24f-1f33-40d0-c1e6-affccdfec447"
      },
      "execution_count": null,
      "outputs": [
        {
          "output_type": "stream",
          "name": "stdout",
          "text": [
            "time: 1.54 ms (started: 2023-05-23 06:51:40 +00:00)\n"
          ]
        }
      ]
    },
    {
      "cell_type": "code",
      "execution_count": null,
      "metadata": {
        "colab": {
          "base_uri": "https://localhost:8080/",
          "height": 671
        },
        "id": "4JiPr096Bw8c",
        "outputId": "bbed9499-11bc-4823-8b13-735f32c642cf"
      },
      "outputs": [
        {
          "output_type": "stream",
          "name": "stderr",
          "text": [
            "<ipython-input-35-c11e7f633751>:12: DeprecationWarning: `np.int` is a deprecated alias for the builtin `int`. To silence this warning, use `int` by itself. Doing this will not modify any behavior and is safe. When replacing `np.int`, you may wish to use e.g. `np.int64` or `np.int32` to specify the precision. If you wish to review your current use, check the release note link for additional information.\n",
            "Deprecated in NumPy 1.20; for more details and guidance: https://numpy.org/devdocs/release/1.20.0-notes.html#deprecations\n",
            "  labels = np.zeros(img.shape[0:2], dtype=np.int)\n"
          ]
        },
        {
          "output_type": "display_data",
          "data": {
            "text/plain": [
              "<Figure size 1400x700 with 2 Axes>"
            ],
            "image/png": "[encoded data removed]"
          },
          "metadata": {}
        },
        {
          "output_type": "stream",
          "name": "stdout",
          "text": [
            "time: 9.01 s (started: 2023-05-23 07:32:29 +00:00)\n"
          ]
        }
      ],
      "source": [
        "t0 = time.perf_counter()\n",
        "from skimage import img_as_float\n",
        "from math import sqrt\n",
        "import numpy as np\n",
        "from matplotlib import pyplot as plt\n",
        "from skimage import io\n",
        "t1 = time.perf_counter()\n",
        "\n",
        "t2 = time.perf_counter()\n",
        "img = io.imread('AVTO1.gif')\n",
        "t3 = time.perf_counter()\n",
        "labels = np.zeros(img.shape[0:2], dtype=np.int)\n",
        "\n",
        "reg = 1\n",
        "reg_target = 2\n",
        "height, width = img.shape[:2]\n",
        "\n",
        "grass = 1\n",
        "target = -1\n",
        "\n",
        "labels[0:reg, :] = grass\n",
        "labels[height-reg:, :] = grass\n",
        "labels[reg:, 0:reg] = grass\n",
        "labels[reg:, width-reg:] = grass\n",
        "\n",
        "labels[int(height/2 - reg_target):int(height/2 + reg_target),\n",
        "       int(width/2 - reg_target):int(width/2 + reg_target)] = target\n",
        "\n",
        "strength = np.zeros_like(labels, dtype=np.float64)\n",
        "\n",
        "strength[np.nonzero(labels)] = 1.0\n",
        "t4 = time.perf_counter()\n",
        "n, growcut_labels = segmentation(img, np.dstack((labels, strength)), rank=2, max_iter=150)\n",
        "t5 = time.perf_counter()\n",
        "fig, (ax1, ax2) = plt.subplots(1, 2, figsize=(14, 7))\n",
        "ax1.imshow(img, cmap='gray')\n",
        "ax1.contour(labels, colors='r')\n",
        "ax1.set_title('Исходное изображение')\n",
        "ax2.set_title('Наложение полученного результата на изображение');\n",
        "ax2.imshow(growcut_labels, cmap='gray')\n",
        "t6 = time.perf_counter()"
      ]
    },
    {
      "cell_type": "code",
      "source": [
        "fig, ax1 = plt.subplots(figsize=(14, 7))\n",
        "ax1.imshow(growcut_labels, cmap='gray')\n",
        "ax1.axis('off')"
      ],
      "metadata": {
        "colab": {
          "base_uri": "https://localhost:8080/",
          "height": 614
        },
        "id": "oSB8o268fa-8",
        "outputId": "5695aeda-c36f-430a-98bf-84fcbf252c11"
      },
      "execution_count": null,
      "outputs": [
        {
          "output_type": "execute_result",
          "data": {
            "text/plain": [
              "(-0.5, 39.5, 39.5, -0.5)"
            ]
          },
          "metadata": {},
          "execution_count": 36
        },
        {
          "output_type": "display_data",
          "data": {
            "text/plain": [
              "<Figure size 1400x700 with 1 Axes>"
            ],
            "image/png": "[encoded data removed]"
          },
          "metadata": {}
        },
        {
          "output_type": "stream",
          "name": "stdout",
          "text": [
            "time: 144 ms (started: 2023-05-23 07:32:45 +00:00)\n"
          ]
        }
      ]
    },
    {
      "cell_type": "code",
      "source": [
        "number_of_black_pix = np.sum(growcut_labels == -1)\n",
        "print('Number of black pixels:', number_of_black_pix)"
      ],
      "metadata": {
        "colab": {
          "base_uri": "https://localhost:8080/"
        },
        "id": "wmczLY1J8lPR",
        "outputId": "aaf15c00-6ae0-486e-9149-8e2739b49030"
      },
      "execution_count": null,
      "outputs": [
        {
          "output_type": "stream",
          "name": "stdout",
          "text": [
            "Number of black pixels: 84\n",
            "time: 11.1 ms (started: 2023-05-23 09:34:32 +00:00)\n"
          ]
        }
      ]
    },
    {
      "cell_type": "code",
      "source": [
        "from PIL import Image\n",
        "import cv2 as cv\n",
        "image_path = '/content/mask.gif'\n",
        "\n",
        "img = Image.open(image_path)\n",
        "n#ew_image = img.resize((40, 40))\n",
        "img.show()"
      ],
      "metadata": {
        "colab": {
          "base_uri": "https://localhost:8080/",
          "height": 174
        },
        "id": "6650kARjfA6E",
        "outputId": "3250d4f8-df8d-48b0-9243-53f5ff339449"
      },
      "execution_count": null,
      "outputs": [
        {
          "output_type": "display_data",
          "data": {
            "text/plain": [
              "<PIL.GifImagePlugin.GifImageFile image mode=L size=138x138 at 0x7F30CD296A10>"
            ],
            "image/png": "[encoded data removed]"
          },
          "metadata": {}
        },
        {
          "output_type": "stream",
          "name": "stdout",
          "text": [
            "time: 5.32 ms (started: 2023-05-23 09:57:51 +00:00)\n"
          ]
        }
      ]
    },
    {
      "cell_type": "code",
      "source": [
        "import cv2\n",
        "image = cv2.imread(\"agc_mask.png\", 0)\n",
        "count = cv2.countNonZero(image)\n",
        "print(count)\n",
        "number_of_black_pix = np.sum(image == 255)\n",
        "print('Number of black pixels:', number_of_black_pix)"
      ],
      "metadata": {
        "colab": {
          "base_uri": "https://localhost:8080/"
        },
        "id": "TFnV3btyCXzX",
        "outputId": "fdf8c5dd-18fd-448c-fef5-6c06eb1e3002"
      },
      "execution_count": null,
      "outputs": [
        {
          "output_type": "stream",
          "name": "stdout",
          "text": [
            "297226\n",
            "Number of black pixels: 297226\n",
            "time: 13.9 ms (started: 2023-05-23 10:18:12 +00:00)\n"
          ]
        }
      ]
    },
    {
      "cell_type": "code",
      "source": [
        "img_1 = io.imread('mask.gif')\n",
        "fig, (ax1, ax2) = plt.subplots(1, 2, figsize=(14, 7))\n",
        "ax1.imshow(img_1, cmap='gray')\n",
        "ax1.set_title('Золотой стандарт')\n",
        "ax2.set_title('AGC');\n",
        "ax2.imshow(img)\n",
        "t6 = time.perf_counter()"
      ],
      "metadata": {
        "colab": {
          "base_uri": "https://localhost:8080/",
          "height": 595
        },
        "id": "bYbbJoWkd6mT",
        "outputId": "c6be0903-b20a-4725-c3ca-e3995d570ca8"
      },
      "execution_count": null,
      "outputs": [
        {
          "output_type": "display_data",
          "data": {
            "text/plain": [
              "<Figure size 1400x700 with 2 Axes>"
            ],
            "image/png": "[encoded data removed]"
          },
          "metadata": {}
        },
        {
          "output_type": "stream",
          "name": "stdout",
          "text": [
            "time: 1.45 s (started: 2023-05-23 09:29:21 +00:00)\n"
          ]
        }
      ]
    },
    {
      "cell_type": "code",
      "source": [
        "number_of_black_pix = np.sum(img == 254)\n",
        "print('Number of black pixels:', number_of_black_pix)"
      ],
      "metadata": {
        "colab": {
          "base_uri": "https://localhost:8080/"
        },
        "id": "zsZNoJY6BOV3",
        "outputId": "461ee607-ad57-420f-d662-b713233f7637"
      },
      "execution_count": null,
      "outputs": [
        {
          "output_type": "stream",
          "name": "stdout",
          "text": [
            "Number of black pixels: 0\n",
            "time: 1.91 ms (started: 2023-05-23 09:51:57 +00:00)\n"
          ]
        }
      ]
    },
    {
      "cell_type": "code",
      "source": [
        "print('Подключение библиотек:',t1-t0)\n",
        "print('Функция сегментации:',t2-t1)\n",
        "print('Чтение изображения:',t3-t2)\n",
        "print('Автоматическая разметка:',t4-t3)\n",
        "print('Сегментация %s сек. (%s итераций)'% (t5-t4, n))\n",
        "print('Вывод результата:',t6-t5)\n",
        "print('Общее время:',t6-t0)"
      ],
      "metadata": {
        "id": "5feiScu9E-mt"
      },
      "execution_count": null,
      "outputs": []
    },
    {
      "cell_type": "markdown",
      "source": [
        "Тест на использование памяти"
      ],
      "metadata": {
        "id": "iuZnoSzOD3yT"
      }
    },
    {
      "cell_type": "code",
      "source": [
        "!pip install line_profiler\n",
        "%load_ext line_profiler"
      ],
      "metadata": {
        "id": "GKDsaW_pD3hc"
      },
      "execution_count": null,
      "outputs": []
    },
    {
      "cell_type": "code",
      "source": [
        "!pip install pympler\n",
        "from pympler import summary, muppy"
      ],
      "metadata": {
        "id": "ydcWo1lSH8oM"
      },
      "execution_count": null,
      "outputs": []
    },
    {
      "cell_type": "code",
      "source": [
        "!pip install line_profiler\n",
        "#Load the module\n",
        "%load_ext line_profiler"
      ],
      "metadata": {
        "id": "y5ji_oFQJDqi"
      },
      "execution_count": null,
      "outputs": []
    },
    {
      "cell_type": "code",
      "source": [
        "import cProfile\n",
        "\n",
        "!pip install line_profiler\n",
        "%load_ext line_profiler"
      ],
      "metadata": {
        "id": "pG4Ri2GvKAoE"
      },
      "execution_count": null,
      "outputs": []
    },
    {
      "cell_type": "code",
      "execution_count": null,
      "metadata": {
        "id": "Ltj-LeuZD6qG"
      },
      "outputs": [],
      "source": [
        "sum1 = muppy.get_objects()\n",
        "list1=[]\n",
        "from skimage import img_as_float\n",
        "from math import sqrt\n",
        "import numpy as np\n",
        "from matplotlib import pyplot as plt\n",
        "from skimage import io\n",
        "def growcut(image, state, max_iter, rank):\n",
        "\n",
        "    image = img_as_float(image)\n",
        "    height, width = image.shape[:2]\n",
        "\n",
        "    changes = 1\n",
        "    n = 0\n",
        "    state_next = state.copy()\n",
        "\n",
        "    while changes > 0 and n < max_iter:\n",
        "        changes = 0\n",
        "        n += 1\n",
        "\n",
        "        for j in range(width):\n",
        "            for i in range(height):\n",
        "                C_p = image[i, j]\n",
        "                S_p = state[i, j]\n",
        "                for jj in range(max(0, j - rank), min(j + rank + 1, width)):\n",
        "                  for ii in range(max(0, i - rank), min(i + rank + 1, height)):\n",
        "                        C_q = image[ii, jj]\n",
        "                        S_q = state[ii, jj]\n",
        "                        gc = 1 - np.sqrt(np.sum((C_q - C_p) ** 2)) / sqrt(3)\n",
        "                        if gc * S_q[1] > S_p[1]:\n",
        "                            state_next[i, j, 0] = S_q[0]\n",
        "                            state_next[i, j, 1] = gc * S_q[1]\n",
        "                            changes += 1\n",
        "                            break\n",
        "\n",
        "        state = state_next\n",
        "\n",
        "    return n, state[:, :, 0]\n",
        "\n",
        "img = io.imread('AVTO1.gif')\n",
        "\n",
        "labels = np.zeros(img.shape[0:2], dtype=np.int)\n",
        "\n",
        "reg = 1\n",
        "reg_target = 3\n",
        "height, width = img.shape[:2]\n",
        "\n",
        "grass = -1\n",
        "target = 1\n",
        "\n",
        "labels[0:reg, :] = grass\n",
        "labels[height-reg:, :] = grass\n",
        "labels[reg:, 0:reg] = grass\n",
        "labels[reg:, width-reg:] = grass\n",
        "\n",
        "labels[int(height/2 - reg_target):int(height/2 + reg_target),\n",
        "       int(width/2 - reg_target):int(width/2 + reg_target)] = target\n",
        "\n",
        "strength = np.zeros_like(labels, dtype=np.float64)\n",
        "\n",
        "strength[np.nonzero(labels)] = 1.0\n",
        "\n",
        "n, growcut_labels = growcut(img, np.dstack((labels, strength)), rank=2, max_iter=150)\n",
        "\n",
        "fig, (ax1, ax2) = plt.subplots(1, 2, figsize=(14, 7))\n",
        "ax1.imshow(img, cmap='gray')\n",
        "ax1.contour(labels, colors='r')\n",
        "ax1.set_title('Исходное изображение')\n",
        "ax2.set_title('Наложение полученного результата на изображение');\n",
        "ax2.imshow(img, cmap='gray')\n",
        "ax2.contour(growcut_labels, colors='r')\n",
        "sum2 = muppy.get_objects()"
      ]
    },
    {
      "cell_type": "code",
      "source": [
        "summary.print_(summary.get_diff(summary.summarize(sum1), summary.summarize(sum2)))"
      ],
      "metadata": {
        "id": "bZdMgxzPIKlK"
      },
      "execution_count": null,
      "outputs": []
    },
    {
      "cell_type": "code",
      "source": [
        "\n",
        "fig, (ax1, ax2) = plt.subplots(1, 2, figsize=(14, 7))\n",
        "ax1.imshow(img, cmap='gray')\n",
        "ax1.contour(labels, colors='r')\n",
        "ax1.set_title('Исходное изображение')\n",
        "ax2.set_title('Наложение полученного результата на изображение');\n",
        "ax2.imshow(img, cmap='gray')\n",
        "ax2.contour(growcut_labels, colors='r')\n"
      ],
      "metadata": {
        "id": "sF5T2nnXGABz"
      },
      "execution_count": null,
      "outputs": []
    }
  ]
}